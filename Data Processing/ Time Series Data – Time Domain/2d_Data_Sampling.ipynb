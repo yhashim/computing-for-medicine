{
  "nbformat": 4,
  "nbformat_minor": 0,
  "metadata": {
    "colab": {
      "provenance": [],
      "collapsed_sections": [
        "OBADxK39qJDx",
        "GEN9W9fPgbij",
        "QT3DQn4rqmY5",
        "UZh0SZcxkkjM",
        "GqOxoxeGTvCZ",
        "itPbHWUaqr59"
      ]
    },
    "kernelspec": {
      "name": "python3",
      "display_name": "Python 3"
    },
    "language_info": {
      "name": "python"
    }
  },
  "cells": [
    {
      "cell_type": "markdown",
      "source": [
        "In this notebook, we're going to talk about the importance of the spacing between data points in a time series and how to adjust that spacing post-hoc in software.\n"
      ],
      "metadata": {
        "id": "Vj8n7JvdwZ8S"
      }
    },
    {
      "cell_type": "markdown",
      "source": [
        "# Important: Run this code cell each time you start a new session!"
      ],
      "metadata": {
        "id": "OBADxK39qJDx"
      }
    },
    {
      "cell_type": "code",
      "source": [
        "!pip install numpy\n",
        "!pip install pandas\n",
        "!pip install matplotlib\n",
        "!pip install ipywidgets\n",
        "!pip install os\n",
        "import numpy as np\n",
        "import pandas as pd\n",
        "import matplotlib.pyplot as plt\n",
        "import os"
      ],
      "metadata": {
        "id": "yuzcYs-MUBvs",
        "colab": {
          "base_uri": "https://localhost:8080/"
        },
        "outputId": "f31e4b09-3b66-4d33-8693-d9e9e9811a4a"
      },
      "execution_count": 1,
      "outputs": [
        {
          "output_type": "stream",
          "name": "stdout",
          "text": [
            "Requirement already satisfied: numpy in /usr/local/lib/python3.10/dist-packages (1.25.2)\n",
            "Requirement already satisfied: pandas in /usr/local/lib/python3.10/dist-packages (2.0.3)\n",
            "Requirement already satisfied: python-dateutil>=2.8.2 in /usr/local/lib/python3.10/dist-packages (from pandas) (2.8.2)\n",
            "Requirement already satisfied: pytz>=2020.1 in /usr/local/lib/python3.10/dist-packages (from pandas) (2023.4)\n",
            "Requirement already satisfied: tzdata>=2022.1 in /usr/local/lib/python3.10/dist-packages (from pandas) (2024.1)\n",
            "Requirement already satisfied: numpy>=1.21.0 in /usr/local/lib/python3.10/dist-packages (from pandas) (1.25.2)\n",
            "Requirement already satisfied: six>=1.5 in /usr/local/lib/python3.10/dist-packages (from python-dateutil>=2.8.2->pandas) (1.16.0)\n",
            "Requirement already satisfied: matplotlib in /usr/local/lib/python3.10/dist-packages (3.7.1)\n",
            "Requirement already satisfied: contourpy>=1.0.1 in /usr/local/lib/python3.10/dist-packages (from matplotlib) (1.2.1)\n",
            "Requirement already satisfied: cycler>=0.10 in /usr/local/lib/python3.10/dist-packages (from matplotlib) (0.12.1)\n",
            "Requirement already satisfied: fonttools>=4.22.0 in /usr/local/lib/python3.10/dist-packages (from matplotlib) (4.53.0)\n",
            "Requirement already satisfied: kiwisolver>=1.0.1 in /usr/local/lib/python3.10/dist-packages (from matplotlib) (1.4.5)\n",
            "Requirement already satisfied: numpy>=1.20 in /usr/local/lib/python3.10/dist-packages (from matplotlib) (1.25.2)\n",
            "Requirement already satisfied: packaging>=20.0 in /usr/local/lib/python3.10/dist-packages (from matplotlib) (24.1)\n",
            "Requirement already satisfied: pillow>=6.2.0 in /usr/local/lib/python3.10/dist-packages (from matplotlib) (9.4.0)\n",
            "Requirement already satisfied: pyparsing>=2.3.1 in /usr/local/lib/python3.10/dist-packages (from matplotlib) (3.1.2)\n",
            "Requirement already satisfied: python-dateutil>=2.7 in /usr/local/lib/python3.10/dist-packages (from matplotlib) (2.8.2)\n",
            "Requirement already satisfied: six>=1.5 in /usr/local/lib/python3.10/dist-packages (from python-dateutil>=2.7->matplotlib) (1.16.0)\n",
            "Requirement already satisfied: ipywidgets in /usr/local/lib/python3.10/dist-packages (7.7.1)\n",
            "Requirement already satisfied: ipykernel>=4.5.1 in /usr/local/lib/python3.10/dist-packages (from ipywidgets) (5.5.6)\n",
            "Requirement already satisfied: ipython-genutils~=0.2.0 in /usr/local/lib/python3.10/dist-packages (from ipywidgets) (0.2.0)\n",
            "Requirement already satisfied: traitlets>=4.3.1 in /usr/local/lib/python3.10/dist-packages (from ipywidgets) (5.7.1)\n",
            "Requirement already satisfied: widgetsnbextension~=3.6.0 in /usr/local/lib/python3.10/dist-packages (from ipywidgets) (3.6.6)\n",
            "Requirement already satisfied: ipython>=4.0.0 in /usr/local/lib/python3.10/dist-packages (from ipywidgets) (7.34.0)\n",
            "Requirement already satisfied: jupyterlab-widgets>=1.0.0 in /usr/local/lib/python3.10/dist-packages (from ipywidgets) (3.0.11)\n",
            "Requirement already satisfied: jupyter-client in /usr/local/lib/python3.10/dist-packages (from ipykernel>=4.5.1->ipywidgets) (6.1.12)\n",
            "Requirement already satisfied: tornado>=4.2 in /usr/local/lib/python3.10/dist-packages (from ipykernel>=4.5.1->ipywidgets) (6.3.3)\n",
            "Requirement already satisfied: setuptools>=18.5 in /usr/local/lib/python3.10/dist-packages (from ipython>=4.0.0->ipywidgets) (67.7.2)\n",
            "Collecting jedi>=0.16 (from ipython>=4.0.0->ipywidgets)\n",
            "  Downloading jedi-0.19.1-py2.py3-none-any.whl (1.6 MB)\n",
            "\u001b[2K     \u001b[90m━━━━━━━━━━━━━━━━━━━━━━━━━━━━━━━━━━━━━━━━\u001b[0m \u001b[32m1.6/1.6 MB\u001b[0m \u001b[31m16.3 MB/s\u001b[0m eta \u001b[36m0:00:00\u001b[0m\n",
            "\u001b[?25hRequirement already satisfied: decorator in /usr/local/lib/python3.10/dist-packages (from ipython>=4.0.0->ipywidgets) (4.4.2)\n",
            "Requirement already satisfied: pickleshare in /usr/local/lib/python3.10/dist-packages (from ipython>=4.0.0->ipywidgets) (0.7.5)\n",
            "Requirement already satisfied: prompt-toolkit!=3.0.0,!=3.0.1,<3.1.0,>=2.0.0 in /usr/local/lib/python3.10/dist-packages (from ipython>=4.0.0->ipywidgets) (3.0.47)\n",
            "Requirement already satisfied: pygments in /usr/local/lib/python3.10/dist-packages (from ipython>=4.0.0->ipywidgets) (2.16.1)\n",
            "Requirement already satisfied: backcall in /usr/local/lib/python3.10/dist-packages (from ipython>=4.0.0->ipywidgets) (0.2.0)\n",
            "Requirement already satisfied: matplotlib-inline in /usr/local/lib/python3.10/dist-packages (from ipython>=4.0.0->ipywidgets) (0.1.7)\n",
            "Requirement already satisfied: pexpect>4.3 in /usr/local/lib/python3.10/dist-packages (from ipython>=4.0.0->ipywidgets) (4.9.0)\n",
            "Requirement already satisfied: notebook>=4.4.1 in /usr/local/lib/python3.10/dist-packages (from widgetsnbextension~=3.6.0->ipywidgets) (6.5.5)\n",
            "Requirement already satisfied: parso<0.9.0,>=0.8.3 in /usr/local/lib/python3.10/dist-packages (from jedi>=0.16->ipython>=4.0.0->ipywidgets) (0.8.4)\n",
            "Requirement already satisfied: jinja2 in /usr/local/lib/python3.10/dist-packages (from notebook>=4.4.1->widgetsnbextension~=3.6.0->ipywidgets) (3.1.4)\n",
            "Requirement already satisfied: pyzmq<25,>=17 in /usr/local/lib/python3.10/dist-packages (from notebook>=4.4.1->widgetsnbextension~=3.6.0->ipywidgets) (24.0.1)\n",
            "Requirement already satisfied: argon2-cffi in /usr/local/lib/python3.10/dist-packages (from notebook>=4.4.1->widgetsnbextension~=3.6.0->ipywidgets) (23.1.0)\n",
            "Requirement already satisfied: jupyter-core>=4.6.1 in /usr/local/lib/python3.10/dist-packages (from notebook>=4.4.1->widgetsnbextension~=3.6.0->ipywidgets) (5.7.2)\n",
            "Requirement already satisfied: nbformat in /usr/local/lib/python3.10/dist-packages (from notebook>=4.4.1->widgetsnbextension~=3.6.0->ipywidgets) (5.10.4)\n",
            "Requirement already satisfied: nbconvert>=5 in /usr/local/lib/python3.10/dist-packages (from notebook>=4.4.1->widgetsnbextension~=3.6.0->ipywidgets) (6.5.4)\n",
            "Requirement already satisfied: nest-asyncio>=1.5 in /usr/local/lib/python3.10/dist-packages (from notebook>=4.4.1->widgetsnbextension~=3.6.0->ipywidgets) (1.6.0)\n",
            "Requirement already satisfied: Send2Trash>=1.8.0 in /usr/local/lib/python3.10/dist-packages (from notebook>=4.4.1->widgetsnbextension~=3.6.0->ipywidgets) (1.8.3)\n",
            "Requirement already satisfied: terminado>=0.8.3 in /usr/local/lib/python3.10/dist-packages (from notebook>=4.4.1->widgetsnbextension~=3.6.0->ipywidgets) (0.18.1)\n",
            "Requirement already satisfied: prometheus-client in /usr/local/lib/python3.10/dist-packages (from notebook>=4.4.1->widgetsnbextension~=3.6.0->ipywidgets) (0.20.0)\n",
            "Requirement already satisfied: nbclassic>=0.4.7 in /usr/local/lib/python3.10/dist-packages (from notebook>=4.4.1->widgetsnbextension~=3.6.0->ipywidgets) (1.1.0)\n",
            "Requirement already satisfied: python-dateutil>=2.1 in /usr/local/lib/python3.10/dist-packages (from jupyter-client->ipykernel>=4.5.1->ipywidgets) (2.8.2)\n",
            "Requirement already satisfied: ptyprocess>=0.5 in /usr/local/lib/python3.10/dist-packages (from pexpect>4.3->ipython>=4.0.0->ipywidgets) (0.7.0)\n",
            "Requirement already satisfied: wcwidth in /usr/local/lib/python3.10/dist-packages (from prompt-toolkit!=3.0.0,!=3.0.1,<3.1.0,>=2.0.0->ipython>=4.0.0->ipywidgets) (0.2.13)\n",
            "Requirement already satisfied: platformdirs>=2.5 in /usr/local/lib/python3.10/dist-packages (from jupyter-core>=4.6.1->notebook>=4.4.1->widgetsnbextension~=3.6.0->ipywidgets) (4.2.2)\n",
            "Requirement already satisfied: notebook-shim>=0.2.3 in /usr/local/lib/python3.10/dist-packages (from nbclassic>=0.4.7->notebook>=4.4.1->widgetsnbextension~=3.6.0->ipywidgets) (0.2.4)\n",
            "Requirement already satisfied: lxml in /usr/local/lib/python3.10/dist-packages (from nbconvert>=5->notebook>=4.4.1->widgetsnbextension~=3.6.0->ipywidgets) (4.9.4)\n",
            "Requirement already satisfied: beautifulsoup4 in /usr/local/lib/python3.10/dist-packages (from nbconvert>=5->notebook>=4.4.1->widgetsnbextension~=3.6.0->ipywidgets) (4.12.3)\n",
            "Requirement already satisfied: bleach in /usr/local/lib/python3.10/dist-packages (from nbconvert>=5->notebook>=4.4.1->widgetsnbextension~=3.6.0->ipywidgets) (6.1.0)\n",
            "Requirement already satisfied: defusedxml in /usr/local/lib/python3.10/dist-packages (from nbconvert>=5->notebook>=4.4.1->widgetsnbextension~=3.6.0->ipywidgets) (0.7.1)\n",
            "Requirement already satisfied: entrypoints>=0.2.2 in /usr/local/lib/python3.10/dist-packages (from nbconvert>=5->notebook>=4.4.1->widgetsnbextension~=3.6.0->ipywidgets) (0.4)\n",
            "Requirement already satisfied: jupyterlab-pygments in /usr/local/lib/python3.10/dist-packages (from nbconvert>=5->notebook>=4.4.1->widgetsnbextension~=3.6.0->ipywidgets) (0.3.0)\n",
            "Requirement already satisfied: MarkupSafe>=2.0 in /usr/local/lib/python3.10/dist-packages (from nbconvert>=5->notebook>=4.4.1->widgetsnbextension~=3.6.0->ipywidgets) (2.1.5)\n",
            "Requirement already satisfied: mistune<2,>=0.8.1 in /usr/local/lib/python3.10/dist-packages (from nbconvert>=5->notebook>=4.4.1->widgetsnbextension~=3.6.0->ipywidgets) (0.8.4)\n",
            "Requirement already satisfied: nbclient>=0.5.0 in /usr/local/lib/python3.10/dist-packages (from nbconvert>=5->notebook>=4.4.1->widgetsnbextension~=3.6.0->ipywidgets) (0.10.0)\n",
            "Requirement already satisfied: packaging in /usr/local/lib/python3.10/dist-packages (from nbconvert>=5->notebook>=4.4.1->widgetsnbextension~=3.6.0->ipywidgets) (24.1)\n",
            "Requirement already satisfied: pandocfilters>=1.4.1 in /usr/local/lib/python3.10/dist-packages (from nbconvert>=5->notebook>=4.4.1->widgetsnbextension~=3.6.0->ipywidgets) (1.5.1)\n",
            "Requirement already satisfied: tinycss2 in /usr/local/lib/python3.10/dist-packages (from nbconvert>=5->notebook>=4.4.1->widgetsnbextension~=3.6.0->ipywidgets) (1.3.0)\n",
            "Requirement already satisfied: fastjsonschema>=2.15 in /usr/local/lib/python3.10/dist-packages (from nbformat->notebook>=4.4.1->widgetsnbextension~=3.6.0->ipywidgets) (2.19.1)\n",
            "Requirement already satisfied: jsonschema>=2.6 in /usr/local/lib/python3.10/dist-packages (from nbformat->notebook>=4.4.1->widgetsnbextension~=3.6.0->ipywidgets) (4.19.2)\n",
            "Requirement already satisfied: six>=1.5 in /usr/local/lib/python3.10/dist-packages (from python-dateutil>=2.1->jupyter-client->ipykernel>=4.5.1->ipywidgets) (1.16.0)\n",
            "Requirement already satisfied: argon2-cffi-bindings in /usr/local/lib/python3.10/dist-packages (from argon2-cffi->notebook>=4.4.1->widgetsnbextension~=3.6.0->ipywidgets) (21.2.0)\n",
            "Requirement already satisfied: attrs>=22.2.0 in /usr/local/lib/python3.10/dist-packages (from jsonschema>=2.6->nbformat->notebook>=4.4.1->widgetsnbextension~=3.6.0->ipywidgets) (23.2.0)\n",
            "Requirement already satisfied: jsonschema-specifications>=2023.03.6 in /usr/local/lib/python3.10/dist-packages (from jsonschema>=2.6->nbformat->notebook>=4.4.1->widgetsnbextension~=3.6.0->ipywidgets) (2023.12.1)\n",
            "Requirement already satisfied: referencing>=0.28.4 in /usr/local/lib/python3.10/dist-packages (from jsonschema>=2.6->nbformat->notebook>=4.4.1->widgetsnbextension~=3.6.0->ipywidgets) (0.35.1)\n",
            "Requirement already satisfied: rpds-py>=0.7.1 in /usr/local/lib/python3.10/dist-packages (from jsonschema>=2.6->nbformat->notebook>=4.4.1->widgetsnbextension~=3.6.0->ipywidgets) (0.18.1)\n",
            "Requirement already satisfied: jupyter-server<3,>=1.8 in /usr/local/lib/python3.10/dist-packages (from notebook-shim>=0.2.3->nbclassic>=0.4.7->notebook>=4.4.1->widgetsnbextension~=3.6.0->ipywidgets) (1.24.0)\n",
            "Requirement already satisfied: cffi>=1.0.1 in /usr/local/lib/python3.10/dist-packages (from argon2-cffi-bindings->argon2-cffi->notebook>=4.4.1->widgetsnbextension~=3.6.0->ipywidgets) (1.16.0)\n",
            "Requirement already satisfied: soupsieve>1.2 in /usr/local/lib/python3.10/dist-packages (from beautifulsoup4->nbconvert>=5->notebook>=4.4.1->widgetsnbextension~=3.6.0->ipywidgets) (2.5)\n",
            "Requirement already satisfied: webencodings in /usr/local/lib/python3.10/dist-packages (from bleach->nbconvert>=5->notebook>=4.4.1->widgetsnbextension~=3.6.0->ipywidgets) (0.5.1)\n",
            "Requirement already satisfied: pycparser in /usr/local/lib/python3.10/dist-packages (from cffi>=1.0.1->argon2-cffi-bindings->argon2-cffi->notebook>=4.4.1->widgetsnbextension~=3.6.0->ipywidgets) (2.22)\n",
            "Requirement already satisfied: anyio<4,>=3.1.0 in /usr/local/lib/python3.10/dist-packages (from jupyter-server<3,>=1.8->notebook-shim>=0.2.3->nbclassic>=0.4.7->notebook>=4.4.1->widgetsnbextension~=3.6.0->ipywidgets) (3.7.1)\n",
            "Requirement already satisfied: websocket-client in /usr/local/lib/python3.10/dist-packages (from jupyter-server<3,>=1.8->notebook-shim>=0.2.3->nbclassic>=0.4.7->notebook>=4.4.1->widgetsnbextension~=3.6.0->ipywidgets) (1.8.0)\n",
            "Requirement already satisfied: idna>=2.8 in /usr/local/lib/python3.10/dist-packages (from anyio<4,>=3.1.0->jupyter-server<3,>=1.8->notebook-shim>=0.2.3->nbclassic>=0.4.7->notebook>=4.4.1->widgetsnbextension~=3.6.0->ipywidgets) (3.7)\n",
            "Requirement already satisfied: sniffio>=1.1 in /usr/local/lib/python3.10/dist-packages (from anyio<4,>=3.1.0->jupyter-server<3,>=1.8->notebook-shim>=0.2.3->nbclassic>=0.4.7->notebook>=4.4.1->widgetsnbextension~=3.6.0->ipywidgets) (1.3.1)\n",
            "Requirement already satisfied: exceptiongroup in /usr/local/lib/python3.10/dist-packages (from anyio<4,>=3.1.0->jupyter-server<3,>=1.8->notebook-shim>=0.2.3->nbclassic>=0.4.7->notebook>=4.4.1->widgetsnbextension~=3.6.0->ipywidgets) (1.2.1)\n",
            "Installing collected packages: jedi\n",
            "Successfully installed jedi-0.19.1\n",
            "\u001b[31mERROR: Could not find a version that satisfies the requirement os (from versions: none)\u001b[0m\u001b[31m\n",
            "\u001b[0m\u001b[31mERROR: No matching distribution found for os\u001b[0m\u001b[31m\n",
            "\u001b[0m"
          ]
        }
      ]
    },
    {
      "cell_type": "code",
      "source": [
        "!wget -Ncnp https://physionet.org/files/accelerometry-walk-climb-drive/1.0.0/raw_accelerometry_data/id00b70b13.csv"
      ],
      "metadata": {
        "colab": {
          "base_uri": "https://localhost:8080/"
        },
        "id": "Q8hsDyCZ8Hrr",
        "outputId": "a96b62b7-ba05-46e0-fba4-adefc2abd63b"
      },
      "execution_count": 2,
      "outputs": [
        {
          "output_type": "stream",
          "name": "stdout",
          "text": [
            "--2024-06-13 00:22:00--  https://physionet.org/files/accelerometry-walk-climb-drive/1.0.0/raw_accelerometry_data/id00b70b13.csv\n",
            "Resolving physionet.org (physionet.org)... 18.18.42.54\n",
            "Connecting to physionet.org (physionet.org)|18.18.42.54|:443... connected.\n",
            "HTTP request sent, awaiting response... 200 OK\n",
            "Length: 25931775 (25M) [text/plain]\n",
            "Saving to: ‘id00b70b13.csv’\n",
            "\n",
            "id00b70b13.csv      100%[===================>]  24.73M   291KB/s    in 85s     \n",
            "\n",
            "2024-06-13 00:23:25 (300 KB/s) - ‘id00b70b13.csv’ saved [25931775/25931775]\n",
            "\n"
          ]
        }
      ]
    },
    {
      "cell_type": "code",
      "source": [
        "df = pd.read_csv('id00b70b13.csv')\n",
        "\n",
        "# Filter to only walking activity, which is given a code of 1\n",
        "df = df[df['activity'] == 1]\n",
        "\n",
        "# Process the time\n",
        "df.rename(columns={'time_s': 'Time'}, inplace=True)\n",
        "df = df[(df['Time']>=700) & (df['Time']<=710)]\n",
        "df['Time'] = df['Time'] - df['Time'].min()\n",
        "\n",
        "# Process the accel\n",
        "df['Accel'] = np.sqrt(df['la_x']**2 + df['la_y']**2 + df['la_z']**2)*9.8\n",
        "\n",
        "# Keep only crucial columns\n",
        "keep_cols = ['Time', 'Accel']\n",
        "df = df[keep_cols]\n",
        "df.to_csv('walking.csv',index=False)"
      ],
      "metadata": {
        "id": "3b4MgOU-8Rrs"
      },
      "execution_count": 3,
      "outputs": []
    },
    {
      "cell_type": "markdown",
      "source": [
        "# What Is Sampling Rate?"
      ],
      "metadata": {
        "id": "GEN9W9fPgbij"
      }
    },
    {
      "cell_type": "markdown",
      "source": [
        "Most phonemona that we would want to represent using time-series data is inherently continuous, but capturing that information into a digital signal that can be processed requires taking mesaurements at discrete time points.\n",
        "\n",
        "For example, there are two ways that we could record the outdoor air temperature throughout the day: (1) we could periodically look at a thermometer and write down the readings or, (2) we could program a temperature sensor to periodically detect, transmit, and store the sensed temperature. If we were to take the manual approach, we may be able to take a measurement once every five minutes. If we were to take the sensor-based approach, we could go as high as hundreds of measurements per second. Regardless, there is no way of feasibly recording the infite amount of temperatures that theoretically exist."
      ],
      "metadata": {
        "id": "9KsAM7I71QDj"
      }
    },
    {
      "cell_type": "markdown",
      "source": [
        "The ***sampling rate*** is the frequency at which a continuous signal is sampled or measured in order to convert it into a digital signal. The units that we typical use to discuss sampling rate is samples per second, also known as Hertz (Hz).\n",
        "\n",
        "The sampling rate determines the level of detail and accuracy of the digital representation of the original signal. A higher sampling rate results in a more accurate representation of the original signal, but it also requires more storage and computational power to process."
      ],
      "metadata": {
        "id": "j6NGI2VfgjEz"
      }
    },
    {
      "cell_type": "markdown",
      "source": [
        "To understand the implications of a sampling rate, let's digitally sample a signal that we will pretend to be a continuous sinusoid.\n",
        "\n",
        "In the code cell below, the black line represents the continuous signal, while the red points indicate the digital samples that are recorded according to the sampling rate. Bear in mind that the red lines are strictly used to show the shape of the data being summarized. In actuality, the only information that is being saved is the red circles.\n",
        "\n",
        "Look at the impact of increasing and decreasing the sampling rate by moving the `sampling_rate` slider and then re-running the code block."
      ],
      "metadata": {
        "id": "dNNBsDAIxF_w"
      }
    },
    {
      "cell_type": "code",
      "source": [
        "sampling_rate = 10 #@param {type:\"slider\", min:5, max:25, step:5}\n",
        "\n",
        "# Calculate the \"real signal\"\n",
        "x = np.linspace(0, 1, 1000)\n",
        "y = np.sin(2*np.pi*x)\n",
        "\n",
        "# Calculate the \"sampled signal\"\n",
        "x_sampled = np.linspace(0, 1, sampling_rate)\n",
        "y_sampled = np.sin(2*np.pi*x_sampled)\n",
        "\n",
        "# Plot both of them\n",
        "plt.figure(figsize=(5, 3))\n",
        "plt.plot(x, y, 'k-')\n",
        "plt.plot(x_sampled, y_sampled, 'r-')\n",
        "plt.stem(x_sampled, y_sampled, 'r')\n",
        "plt.xlabel('Time (s)')\n",
        "plt.ylabel('sin(x)')\n",
        "plt.show()"
      ],
      "metadata": {
        "colab": {
          "base_uri": "https://localhost:8080/",
          "height": 311
        },
        "id": "6_FVNKjRh_m6",
        "outputId": "d944b486-4920-45cd-f894-fcccba9119f9"
      },
      "execution_count": 4,
      "outputs": [
        {
          "output_type": "display_data",
          "data": {
            "text/plain": [
              "<Figure size 500x300 with 1 Axes>"
            ],
            "image/png": "[encoded data removed]"
          },
          "metadata": {}
        }
      ]
    },
    {
      "cell_type": "markdown",
      "source": [
        "When our sampling rate is very low, the sampled points do not sufficiently summarize the shape of the smooth curvy signal. As we increase the sampling rate, the lines drawn between the points look closer to our ideal sinuosoid."
      ],
      "metadata": {
        "id": "SzdjzicyxXVV"
      }
    },
    {
      "cell_type": "markdown",
      "source": [
        "# Changing the Sampling Rate"
      ],
      "metadata": {
        "id": "QT3DQn4rqmY5"
      }
    },
    {
      "cell_type": "markdown",
      "source": [
        "Depending on the signal you are capturing, you may or may not have control over how the data is sampled before you load it in your code. Here are some scenarios where you may have control over the sampling rate of your data:\n",
        "* You are using a medical device or sensor that allows you to change the setting of how often it produces a measurement\n",
        "* You have a separate program that periodically queries an API for data (e.g., weather forecasts)\n",
        "* You are asking people to fill out a questionnaire or survey at a fixed interval"
      ],
      "metadata": {
        "id": "gk2Va2LbqvSC"
      }
    },
    {
      "cell_type": "markdown",
      "source": [
        "You might find yourself in situations when you will want to digitally change the sampling rate of your data to simplify your analysis:\n",
        "1. You might want to **upsample**, or increase the sampling rate of your signal, to fill in gaps or provide more fidelity for downstream analysis.\n",
        "2. You might want to **downsample**, or decrease the sampling rate of your signal, to speed up your code by reducing the amount of data you need to process.\n",
        "3. You might want to make the sampling **more uniform** because it was not collected at a regular interval."
      ],
      "metadata": {
        "id": "tPU6LZMtR4xS"
      }
    },
    {
      "cell_type": "markdown",
      "source": [
        "One way we can modify the sampling rate of our data is by using ***interpolation***. Interpolation refers to the idea of estimating values that lie between two known data points. There are multiple variations of interpolation; some examples are described below in increasing order of complexity:\n",
        "* **Nearest neighbor interpolation:** Missing values are assigned based on the closest data point from the original signal.\n",
        "* **Linear interpolation:** Missing values are assigned based on a line that is drawn between the two closest data points from the original signal.\n",
        "* **Spline interpolation:** Missing values are assigned based on piecewise polynomial functions fit to sections of the original signal."
      ],
      "metadata": {
        "id": "D2hj7M1xqqdJ"
      }
    },
    {
      "cell_type": "markdown",
      "source": [
        "We will cover three of the many ways that we can change how data is sampled: one manual approach, a second with `pandas`, and a third with `numpy`."
      ],
      "metadata": {
        "id": "NJPa9QOqU187"
      }
    },
    {
      "cell_type": "markdown",
      "source": [
        "## Option 1: Manual Downsampling"
      ],
      "metadata": {
        "id": "UZh0SZcxkkjM"
      }
    },
    {
      "cell_type": "markdown",
      "source": [
        "If we need to downsample a signal that already has even spacing between time points, all we need to do is slice the data such that we only collect time points at indices spaced apart according to the new sampling rate. For example, if we want to downsample a 20 Hz signal to a 10 Hz signal, we can simply throw away every other data point."
      ],
      "metadata": {
        "id": "Z0Z3rwVtkmoB"
      }
    },
    {
      "cell_type": "markdown",
      "source": [
        "The code cell below illustrates how this is done. The time series in black represents our initial signal, which is sampled at 20 Hz. The variable `new_sampling_rate` will dictate how many points we want in the new time series between the start and end of the original signal.\n",
        "\n",
        "Play around with different settings of `new_sampling_rate` to see what happens. Notice that when we calculate `downsampling_interval`, we use the `int()` function to ensure that the indices we calculate are whole numbers. In other words, this method is best suited when the new sampling rate is an integer factor of the original sampling rate. If you pick a new sampling rate that is not an integer factor, rounding errors will lead you to a different sampling rate."
      ],
      "metadata": {
        "id": "zOePQP7BJRvn"
      }
    },
    {
      "cell_type": "code",
      "source": [
        "new_sampling_rate = 10 #@param {type:\"slider\", min:5, max:20, step:5}\n",
        "\n",
        "# Computing the downsample rate\n",
        "old_sampling_rate = 20\n",
        "downsampling_increment = int(old_sampling_rate/new_sampling_rate)\n",
        "\n",
        "# Generate the original signal\n",
        "x = np.linspace(0, 1, old_sampling_rate)\n",
        "y = np.sin(2*np.pi*x)\n",
        "\n",
        "# Calculate where the new points should be\n",
        "idxs = range(0, len(x), downsampling_increment)\n",
        "\n",
        "# Use the indicies to select the new data points\n",
        "x_resampled = x[idxs]\n",
        "y_resampled = y[idxs]\n",
        "\n",
        "# Plot both of them\n",
        "plt.figure(figsize=(5, 3))\n",
        "plt.plot(x, y, 'k-o')\n",
        "plt.plot(x_resampled, y_resampled, 'rx')\n",
        "plt.xlabel('Time (s)')\n",
        "plt.ylabel('sin(x)')\n",
        "plt.show()"
      ],
      "metadata": {
        "colab": {
          "base_uri": "https://localhost:8080/",
          "height": 311
        },
        "id": "X9byyMyzksX7",
        "outputId": "c5cd907e-c0d4-49d1-b5b8-48217e3e1816"
      },
      "execution_count": null,
      "outputs": [
        {
          "output_type": "display_data",
          "data": {
            "text/plain": [
              "<Figure size 500x300 with 1 Axes>"
            ],
            "image/png": "[encoded data removed]"
          },
          "metadata": {}
        }
      ]
    },
    {
      "cell_type": "markdown",
      "source": [
        "## Option 2: Resampling with `pandas`"
      ],
      "metadata": {
        "id": "GqOxoxeGTvCZ"
      }
    },
    {
      "cell_type": "markdown",
      "source": [
        "`pandas` provides some functions to help you change the sampling rate of your data provided that you have represented the time of each data point using a `Timestamp` object. One example involves the `resample()` method, which works on `Series` that have a `datetime`-like index."
      ],
      "metadata": {
        "id": "SYS11qr1NKKZ"
      }
    },
    {
      "cell_type": "markdown",
      "source": [
        "To illustrate how this work, let's generate a `Series` in which we have a number that gets recorded after each minute for 10 minutes:"
      ],
      "metadata": {
        "id": "3h6bh16lP9vc"
      }
    },
    {
      "cell_type": "code",
      "source": [
        "num_minutes = 10\n",
        "index = pd.date_range('1/1/2000', periods=num_minutes, freq='T')\n",
        "series = pd.Series(range(num_minutes), index=index)\n",
        "series.head(num_minutes)"
      ],
      "metadata": {
        "colab": {
          "base_uri": "https://localhost:8080/"
        },
        "id": "suy-7uy-AXAf",
        "outputId": "64df798d-37a2-484f-b1cf-06728212cdae"
      },
      "execution_count": 5,
      "outputs": [
        {
          "output_type": "execute_result",
          "data": {
            "text/plain": [
              "2000-01-01 00:00:00    0\n",
              "2000-01-01 00:01:00    1\n",
              "2000-01-01 00:02:00    2\n",
              "2000-01-01 00:03:00    3\n",
              "2000-01-01 00:04:00    4\n",
              "2000-01-01 00:05:00    5\n",
              "2000-01-01 00:06:00    6\n",
              "2000-01-01 00:07:00    7\n",
              "2000-01-01 00:08:00    8\n",
              "2000-01-01 00:09:00    9\n",
              "Freq: T, dtype: int64"
            ]
          },
          "metadata": {},
          "execution_count": 5
        }
      ]
    },
    {
      "cell_type": "markdown",
      "source": [
        "The `resample()` method returns a special `Resampler` object specifically designed to group `Series` elements based on time. For the sake of upsampling, we don't want anything to be grouped, so we can use the `asfreq()` method to give us a new `DataFrame` that is reindexed according to our target frequency."
      ],
      "metadata": {
        "id": "MTLs9hCYRkbM"
      }
    },
    {
      "cell_type": "markdown",
      "source": [
        "In the example below, we have reindexed our `DataFrame` such that there is a row for every 30 seconds:"
      ],
      "metadata": {
        "id": "QyuPqef-BMQp"
      }
    },
    {
      "cell_type": "code",
      "source": [
        "series.resample('30S').asfreq()"
      ],
      "metadata": {
        "colab": {
          "base_uri": "https://localhost:8080/"
        },
        "id": "09xUF0A3AiRp",
        "outputId": "3b53ef83-9744-42c2-e5d8-2e05e6753137"
      },
      "execution_count": 6,
      "outputs": [
        {
          "output_type": "execute_result",
          "data": {
            "text/plain": [
              "2000-01-01 00:00:00    0.0\n",
              "2000-01-01 00:00:30    NaN\n",
              "2000-01-01 00:01:00    1.0\n",
              "2000-01-01 00:01:30    NaN\n",
              "2000-01-01 00:02:00    2.0\n",
              "2000-01-01 00:02:30    NaN\n",
              "2000-01-01 00:03:00    3.0\n",
              "2000-01-01 00:03:30    NaN\n",
              "2000-01-01 00:04:00    4.0\n",
              "2000-01-01 00:04:30    NaN\n",
              "2000-01-01 00:05:00    5.0\n",
              "2000-01-01 00:05:30    NaN\n",
              "2000-01-01 00:06:00    6.0\n",
              "2000-01-01 00:06:30    NaN\n",
              "2000-01-01 00:07:00    7.0\n",
              "2000-01-01 00:07:30    NaN\n",
              "2000-01-01 00:08:00    8.0\n",
              "2000-01-01 00:08:30    NaN\n",
              "2000-01-01 00:09:00    9.0\n",
              "Freq: 30S, dtype: float64"
            ]
          },
          "metadata": {},
          "execution_count": 6
        }
      ]
    },
    {
      "cell_type": "markdown",
      "source": [
        "All that this does is reindex our `DataFrame`; neither the `resample()` method nor the `asfreq()` method are designed to fill in the values of the missing rows. However, we can use methods like `ffill()` and `bfill()` to forward-fill and back-fill the missing entries, respectively."
      ],
      "metadata": {
        "id": "n0nVNqJaSkWS"
      }
    },
    {
      "cell_type": "code",
      "source": [
        "# Forward fill\n",
        "series.resample('30S').ffill()"
      ],
      "metadata": {
        "id": "iB7qBT_qBOad",
        "colab": {
          "base_uri": "https://localhost:8080/"
        },
        "outputId": "3ce0b17a-e8d0-4621-9669-0aba44b95b0b"
      },
      "execution_count": 7,
      "outputs": [
        {
          "output_type": "execute_result",
          "data": {
            "text/plain": [
              "2000-01-01 00:00:00    0\n",
              "2000-01-01 00:00:30    0\n",
              "2000-01-01 00:01:00    1\n",
              "2000-01-01 00:01:30    1\n",
              "2000-01-01 00:02:00    2\n",
              "2000-01-01 00:02:30    2\n",
              "2000-01-01 00:03:00    3\n",
              "2000-01-01 00:03:30    3\n",
              "2000-01-01 00:04:00    4\n",
              "2000-01-01 00:04:30    4\n",
              "2000-01-01 00:05:00    5\n",
              "2000-01-01 00:05:30    5\n",
              "2000-01-01 00:06:00    6\n",
              "2000-01-01 00:06:30    6\n",
              "2000-01-01 00:07:00    7\n",
              "2000-01-01 00:07:30    7\n",
              "2000-01-01 00:08:00    8\n",
              "2000-01-01 00:08:30    8\n",
              "2000-01-01 00:09:00    9\n",
              "Freq: 30S, dtype: int64"
            ]
          },
          "metadata": {},
          "execution_count": 7
        }
      ]
    },
    {
      "cell_type": "code",
      "source": [
        "# Backward fill\n",
        "series.resample('30S').bfill()"
      ],
      "metadata": {
        "colab": {
          "base_uri": "https://localhost:8080/"
        },
        "id": "6vwxCI0bTc2j",
        "outputId": "3eb12064-99db-4a62-ff2c-4caa5ab74a7a"
      },
      "execution_count": 8,
      "outputs": [
        {
          "output_type": "execute_result",
          "data": {
            "text/plain": [
              "2000-01-01 00:00:00    0\n",
              "2000-01-01 00:00:30    1\n",
              "2000-01-01 00:01:00    1\n",
              "2000-01-01 00:01:30    2\n",
              "2000-01-01 00:02:00    2\n",
              "2000-01-01 00:02:30    3\n",
              "2000-01-01 00:03:00    3\n",
              "2000-01-01 00:03:30    4\n",
              "2000-01-01 00:04:00    4\n",
              "2000-01-01 00:04:30    5\n",
              "2000-01-01 00:05:00    5\n",
              "2000-01-01 00:05:30    6\n",
              "2000-01-01 00:06:00    6\n",
              "2000-01-01 00:06:30    7\n",
              "2000-01-01 00:07:00    7\n",
              "2000-01-01 00:07:30    8\n",
              "2000-01-01 00:08:00    8\n",
              "2000-01-01 00:08:30    9\n",
              "2000-01-01 00:09:00    9\n",
              "Freq: 30S, dtype: int64"
            ]
          },
          "metadata": {},
          "execution_count": 8
        }
      ]
    },
    {
      "cell_type": "markdown",
      "source": [
        "## Option 3: Interpolation with `numpy`"
      ],
      "metadata": {
        "id": "itPbHWUaqr59"
      }
    },
    {
      "cell_type": "markdown",
      "source": [
        "The `interp()` function in `numpy` is one of the convenient ways of performing linear interpolation. This function requires three inputs:\n",
        "1. The times at which the new samples should be generated\n",
        "2. The times of the original samples\n",
        "3. The values of the original samples"
      ],
      "metadata": {
        "id": "CzHSmDExq3Ig"
      }
    },
    {
      "cell_type": "markdown",
      "source": [
        "The code cell below illustrates the output of this function. The time series in black represents our initial signal, which is sampled at 20 Hz. The variable `new_sampling_rate` will dictate how many points we want in the new time series between the start and end of the original signal.\n",
        "\n",
        "Play around with different settings of `new_sampling_rate` to see what happens. As you can tell by the range of the slider, you can actually use this function to upsample or downsample the signal."
      ],
      "metadata": {
        "id": "D8wdhPXLoF_9"
      }
    },
    {
      "cell_type": "code",
      "source": [
        "new_sampling_rate = 25 #@param {type:\"slider\", min:5, max:35, step:5}\n",
        "\n",
        "# Generate the original signal\n",
        "x = np.linspace(0, 1, 20)\n",
        "y = np.sin(2*np.pi*x)\n",
        "\n",
        "# Calculate where the new points should be\n",
        "x_resampled = np.linspace(0, 1, new_sampling_rate)\n",
        "\n",
        "# Use the interp function to calculate where the new y-values should be\n",
        "y_resampled = np.interp(x_resampled, x, y)\n",
        "\n",
        "# Plot both of them\n",
        "plt.figure(figsize=(5, 3))\n",
        "plt.plot(x, y, 'k-o')\n",
        "plt.plot(x_resampled, y_resampled, 'rx')\n",
        "plt.xlabel('Time (s)')\n",
        "plt.ylabel('sin(x)')\n",
        "plt.show()"
      ],
      "metadata": {
        "colab": {
          "base_uri": "https://localhost:8080/",
          "height": 311
        },
        "id": "WFUl_eYET8-O",
        "outputId": "e1fbc524-8e9c-4d42-d173-5a4ae738af72"
      },
      "execution_count": 9,
      "outputs": [
        {
          "output_type": "display_data",
          "data": {
            "text/plain": [
              "<Figure size 500x300 with 1 Axes>"
            ],
            "image/png": "[encoded data removed]"
          },
          "metadata": {}
        }
      ]
    },
    {
      "cell_type": "markdown",
      "source": [
        "This technique can also work in situations when data is missing, but bear in mind that interpolation can only generate data using information that is already available in the original signal."
      ],
      "metadata": {
        "id": "5UB0Dw7Z-MuE"
      }
    },
    {
      "cell_type": "code",
      "source": [
        "# Generate the original signal\n",
        "x = np.linspace(0, 1, 20)\n",
        "y = np.sin(2*np.pi*x)\n",
        "\n",
        "# Remove some data points\n",
        "remove_idx = [5, 6, 7, 18]\n",
        "x = np.delete(x, remove_idx)\n",
        "y = np.delete(y, remove_idx)\n",
        "\n",
        "# Calculate where the new points should be\n",
        "x_resampled = np.linspace(0, 1, 20)\n",
        "\n",
        "# Use the interp function to calculate where the new y-values should be\n",
        "y_resampled = np.interp(x_resampled, x, y)\n",
        "\n",
        "# Plot both of them\n",
        "plt.figure(figsize=(5, 3))\n",
        "plt.plot(x, y, 'k-o')\n",
        "plt.plot(x_resampled, y_resampled, 'rx')\n",
        "plt.xlabel('Time (s)')\n",
        "plt.ylabel('sin(x)')\n",
        "plt.show()"
      ],
      "metadata": {
        "colab": {
          "base_uri": "https://localhost:8080/",
          "height": 311
        },
        "id": "sFi92aZA-ZRe",
        "outputId": "9e5a5e63-970a-400c-ef29-f86589575589"
      },
      "execution_count": 10,
      "outputs": [
        {
          "output_type": "display_data",
          "data": {
            "text/plain": [
              "<Figure size 500x300 with 1 Axes>"
            ],
            "image/png": "[encoded data removed]"
          },
          "metadata": {}
        }
      ]
    }
  ]
}