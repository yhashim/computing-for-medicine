{
  "nbformat": 4,
  "nbformat_minor": 0,
  "metadata": {
    "colab": {
      "provenance": [],
      "collapsed_sections": [
        "DekAnzq1b82b",
        "xP4sP_ekZxqW",
        "TUuv3wRJaVer",
        "hT0cnOFdafEF"
      ]
    },
    "kernelspec": {
      "name": "python3",
      "display_name": "Python 3"
    },
    "language_info": {
      "name": "python"
    }
  },
  "cells": [
    {
      "cell_type": "markdown",
      "source": [
        "In this notebook, your task is to build a sleep stage classification model for the [Haaglanden Medisch Centrum Sleep Staging Database](https://physionet.org/content/hmc-sleep-staging/1.1/) you examined in your last homework assignment."
      ],
      "metadata": {
        "id": "BDaO9cuMWe83"
      }
    },
    {
      "cell_type": "markdown",
      "source": [
        "# Important: Run this code cell each time you start a new session!"
      ],
      "metadata": {
        "id": "DekAnzq1b82b"
      }
    },
    {
      "cell_type": "code",
      "source": [
        "!pip install numpy\n",
        "!pip install pandas\n",
        "!pip install matplotlib\n",
        "!pip install os\n",
        "!pip install opencv-python\n",
        "!pip install scikit-learn\n",
        "import numpy as np\n",
        "import pandas as pd\n",
        "import matplotlib.pyplot as plt\n",
        "import os\n",
        "import cv2\n",
        "import sklearn"
      ],
      "metadata": {
        "id": "jrO0X1ZMxMN5",
        "outputId": "2723330e-9a83-4823-ab8f-29be5ca52de3",
        "colab": {
          "base_uri": "https://localhost:8080/"
        }
      },
      "execution_count": 1,
      "outputs": [
        {
          "output_type": "stream",
          "name": "stdout",
          "text": [
            "Requirement already satisfied: numpy in /usr/local/lib/python3.10/dist-packages (1.26.4)\n",
            "Requirement already satisfied: pandas in /usr/local/lib/python3.10/dist-packages (2.1.4)\n",
            "Requirement already satisfied: numpy<2,>=1.22.4 in /usr/local/lib/python3.10/dist-packages (from pandas) (1.26.4)\n",
            "Requirement already satisfied: python-dateutil>=2.8.2 in /usr/local/lib/python3.10/dist-packages (from pandas) (2.8.2)\n",
            "Requirement already satisfied: pytz>=2020.1 in /usr/local/lib/python3.10/dist-packages (from pandas) (2024.1)\n",
            "Requirement already satisfied: tzdata>=2022.1 in /usr/local/lib/python3.10/dist-packages (from pandas) (2024.1)\n",
            "Requirement already satisfied: six>=1.5 in /usr/local/lib/python3.10/dist-packages (from python-dateutil>=2.8.2->pandas) (1.16.0)\n",
            "Requirement already satisfied: matplotlib in /usr/local/lib/python3.10/dist-packages (3.7.1)\n",
            "Requirement already satisfied: contourpy>=1.0.1 in /usr/local/lib/python3.10/dist-packages (from matplotlib) (1.2.1)\n",
            "Requirement already satisfied: cycler>=0.10 in /usr/local/lib/python3.10/dist-packages (from matplotlib) (0.12.1)\n",
            "Requirement already satisfied: fonttools>=4.22.0 in /usr/local/lib/python3.10/dist-packages (from matplotlib) (4.53.1)\n",
            "Requirement already satisfied: kiwisolver>=1.0.1 in /usr/local/lib/python3.10/dist-packages (from matplotlib) (1.4.5)\n",
            "Requirement already satisfied: numpy>=1.20 in /usr/local/lib/python3.10/dist-packages (from matplotlib) (1.26.4)\n",
            "Requirement already satisfied: packaging>=20.0 in /usr/local/lib/python3.10/dist-packages (from matplotlib) (24.1)\n",
            "Requirement already satisfied: pillow>=6.2.0 in /usr/local/lib/python3.10/dist-packages (from matplotlib) (9.4.0)\n",
            "Requirement already satisfied: pyparsing>=2.3.1 in /usr/local/lib/python3.10/dist-packages (from matplotlib) (3.1.2)\n",
            "Requirement already satisfied: python-dateutil>=2.7 in /usr/local/lib/python3.10/dist-packages (from matplotlib) (2.8.2)\n",
            "Requirement already satisfied: six>=1.5 in /usr/local/lib/python3.10/dist-packages (from python-dateutil>=2.7->matplotlib) (1.16.0)\n",
            "\u001b[31mERROR: Could not find a version that satisfies the requirement os (from versions: none)\u001b[0m\u001b[31m\n",
            "\u001b[0m\u001b[31mERROR: No matching distribution found for os\u001b[0m\u001b[31m\n",
            "\u001b[0mRequirement already satisfied: opencv-python in /usr/local/lib/python3.10/dist-packages (4.10.0.84)\n",
            "Requirement already satisfied: numpy>=1.21.2 in /usr/local/lib/python3.10/dist-packages (from opencv-python) (1.26.4)\n",
            "Requirement already satisfied: scikit-learn in /usr/local/lib/python3.10/dist-packages (1.3.2)\n",
            "Requirement already satisfied: numpy<2.0,>=1.17.3 in /usr/local/lib/python3.10/dist-packages (from scikit-learn) (1.26.4)\n",
            "Requirement already satisfied: scipy>=1.5.0 in /usr/local/lib/python3.10/dist-packages (from scikit-learn) (1.13.1)\n",
            "Requirement already satisfied: joblib>=1.1.1 in /usr/local/lib/python3.10/dist-packages (from scikit-learn) (1.4.2)\n",
            "Requirement already satisfied: threadpoolctl>=2.0.0 in /usr/local/lib/python3.10/dist-packages (from scikit-learn) (3.5.0)\n"
          ]
        }
      ]
    },
    {
      "cell_type": "markdown",
      "source": [
        "# Step 1: Define the Problem You Are Trying to Solve"
      ],
      "metadata": {
        "id": "xP4sP_ekZxqW"
      }
    },
    {
      "cell_type": "markdown",
      "source": [
        "As a reminder, the goal of this dataset is to enable researchers to automatically identify sleep stages using polysomnographic (PSG) recordings. Given the large size of these recordings, we will work only work with data from 3 participants from this 151-person study. Patient recordings were randomly selected from a heterogeneous group of patients who were referred for PSG examination due to different sleep disorders."
      ],
      "metadata": {
        "id": "9ux-HEhauNcx"
      }
    },
    {
      "cell_type": "markdown",
      "source": [
        "Participants were instrumented with the minimal recommended set of sensors necessary to visually score sleep stages: four EEG (F4/M1, C4/M1, O2/M1, and C3/M2), two EOG (E1/M2 and E2/M2), one bipolar chin EMG, and one ECG (single modified lead II) data stream. Participants slept in the sleep clinic for one night. Their PSG recordings were reviewed and annotated by expert clinicians according to discrete 30-second windows. An example of this annotation process is shown below (note: this is merely an illustration and does not represent the true time-scale of the data):\n",
        "\n",
        "<img src=\"https://drive.google.com/uc?id=1UnkMe1WmP813ZGyS7ynT_CMqP2Nr2do0\" width=750px/>"
      ],
      "metadata": {
        "id": "QYrG6r4EVNEV"
      }
    },
    {
      "cell_type": "markdown",
      "source": [
        "All data was recorded at 256 Hz. For your convenience, the data has already been processed so that there is one `.csv` per participant in a folder called `data` with the following naming convention: `SN{subject_id}.csv`. These files have the following columns:"
      ],
      "metadata": {
        "id": "p6bvWQ9Tqzvk"
      }
    },
    {
      "cell_type": "markdown",
      "source": [
        "| Column # | Description |\n",
        "|----------|-------------|\n",
        "| 1 | Time in seconds|\n",
        "| 2 | Annotation given by the sleep experts (W, N1, N2, N3, R) |\n",
        "| 3–6 | EEG data |\n",
        "| 7 | EMG data |\n",
        "| 8–9 | EOG data |\n",
        "| 10 | ECG data |"
      ],
      "metadata": {
        "id": "KTU_l5HRMbL3"
      }
    },
    {
      "cell_type": "markdown",
      "source": [
        "In this notebook, your goal will be to create a ***classification model*** that infers sleep stages from 30-second windows of PSG data."
      ],
      "metadata": {
        "id": "Q-y-Gd34vd_C"
      }
    },
    {
      "cell_type": "markdown",
      "source": [
        "# Step 2: Create Your Features and Labels"
      ],
      "metadata": {
        "id": "dF7vGVljaKp7"
      }
    },
    {
      "cell_type": "markdown",
      "source": [
        "Remember the `.csv` file that you created in the previous homework? That file already contains all of the data you will need to train your model."
      ],
      "metadata": {
        "id": "QYNa_YEfe7vi"
      }
    },
    {
      "cell_type": "markdown",
      "source": [
        "**(Part 1)** If you do not have the `.csv` file from the previous homework on your local machine, you can regenerate it by going back to the previous homework, re-running the entire notebook, and then downloading the `.csv` that gets created in that notebook's workspace (folder icon on the left side).\n",
        "\n",
        "Once you have the file, return here and upload it to this notebook's workspace. Then, write a line of code that will load the data from this `.csv` file as a `DataFrame`."
      ],
      "metadata": {
        "id": "1O2DKWI7lpOk"
      }
    },
    {
      "cell_type": "code",
      "source": [
        "df = pd.read_csv(\"psg_data.csv\")"
      ],
      "metadata": {
        "id": "CyF6QrZO2zs7"
      },
      "execution_count": 2,
      "outputs": []
    },
    {
      "cell_type": "markdown",
      "source": [
        "**(Part 2)** Write code that will store the labels as a `numpy` array called `y`."
      ],
      "metadata": {
        "id": "a_A5eLBwu4DO"
      }
    },
    {
      "cell_type": "code",
      "source": [
        "label_mapping = {'W': 0, 'N1': 1, 'N2': 2, 'N3': 3, 'R': 4}\n",
        "df['Annotation'] = df['Annotation'].map(label_mapping)\n",
        "y = df['Annotation'].values"
      ],
      "metadata": {
        "id": "zy3AQMjiAZcU"
      },
      "execution_count": 3,
      "outputs": []
    },
    {
      "cell_type": "markdown",
      "source": [
        "**(Part 3)** Write code that will store the features as a `numpy` array called `x`.\n",
        "\n",
        "*Hint:* Remember that there are more columns in this `DataFrame` than features and labels."
      ],
      "metadata": {
        "id": "pvX37rIGya5k"
      }
    },
    {
      "cell_type": "code",
      "source": [
        "x = df.iloc[:, 3:].values\n",
        "\n",
        "feature_names = df.columns[3:]\n",
        "feature_names_list = feature_names.tolist()"
      ],
      "metadata": {
        "id": "GoD80vQSAafF"
      },
      "execution_count": 32,
      "outputs": []
    },
    {
      "cell_type": "markdown",
      "source": [
        "# Step 3: Decide How the Data Should Be Split for Training and Testing"
      ],
      "metadata": {
        "id": "ryaahUysaOHD"
      }
    },
    {
      "cell_type": "markdown",
      "source": [
        "Recall that although our dataset only has one recording for each patient, we split those recordings into multiple windows. If we were to do a single 80%-20% split, we would likely have a single patient's data divided across the train and test sets, which is particularly problematic for this dataset because consecutive windows from the same patient are likely to be highly similar. Instead, you will need to use subject-wise cross-validation to generate one split for each patient in the dataset."
      ],
      "metadata": {
        "id": "xowxt9U1ceTx"
      }
    },
    {
      "cell_type": "markdown",
      "source": [
        "**(Part 4)** Write code that will store the group ID associated with each sample as a `numpy` array called `groups`."
      ],
      "metadata": {
        "id": "xPZ3aDpz_Qw_"
      }
    },
    {
      "cell_type": "code",
      "source": [
        "groups = df['Subject ID'].values"
      ],
      "metadata": {
        "id": "FopxL2ypBMO-"
      },
      "execution_count": 5,
      "outputs": []
    },
    {
      "cell_type": "markdown",
      "source": [
        "You will actually perform the cross-validation in Step 8."
      ],
      "metadata": {
        "id": "WGYZEtu1_1Gb"
      }
    },
    {
      "cell_type": "markdown",
      "source": [
        "# Step 4: (Optional) Add Feature Selection"
      ],
      "metadata": {
        "id": "gmMs1P1tabse"
      }
    },
    {
      "cell_type": "code",
      "source": [
        "from sklearn.feature_selection import SelectPercentile, f_regression\n",
        "\n",
        "feat_select = SelectPercentile(f_regression, percentile=60)\n",
        "x = feat_select.fit_transform(x, y)"
      ],
      "metadata": {
        "id": "ULWIVcvjZlr8"
      },
      "execution_count": 6,
      "outputs": []
    },
    {
      "cell_type": "markdown",
      "source": [
        "# Step 5: (Optional) Balance Your Dataset"
      ],
      "metadata": {
        "id": "90Fwfakplyu8"
      }
    },
    {
      "cell_type": "code",
      "source": [
        "# from imblearn.over_sampling import SMOTE\n",
        "\n",
        "# x_resampled = []\n",
        "# y_resampled = []\n",
        "\n",
        "# for subject in np.unique(groups):\n",
        "#     # Select data for the current subject\n",
        "#     index = groups == subject\n",
        "#     x_subject = x[index]\n",
        "#     y_subject = y[index]\n",
        "\n",
        "#     # Apply SMOTE to balance the data for the current subject\n",
        "#     smote = SMOTE()\n",
        "#     x_resampled_subject, y_resampled_subject = smote.fit_resample(x_subject, y_subject)\n",
        "\n",
        "#     # Append the resampled data to the overall lists\n",
        "#     x_resampled.append(x_resampled_subject)\n",
        "#     y_resampled.append(y_resampled_subject)\n",
        "\n",
        "# # Combine the resampled data for all subjects\n",
        "# x_balanced = np.concatenate(x_resampled)\n",
        "# y_balanced = np.concatenate(y_resampled)\n",
        "\n",
        "# x = x_balanced\n",
        "# y = y_balanced\n",
        "\n",
        "# # Create a new groups array reflecting the balanced data\n",
        "# groups_balanced = []\n",
        "# for i, subject in enumerate(np.unique(groups)):\n",
        "#     groups_balanced.extend([subject] * len(y_resampled[i]))\n",
        "\n",
        "# groups_balanced = np.array(groups_balanced)\n",
        "\n",
        "# groups = groups_balanced"
      ],
      "metadata": {
        "id": "Jz3dFf7uZpsC"
      },
      "execution_count": 7,
      "outputs": []
    },
    {
      "cell_type": "markdown",
      "source": [
        "# Step 6: Select an Appropriate Model"
      ],
      "metadata": {
        "id": "TUuv3wRJaVer"
      }
    },
    {
      "cell_type": "markdown",
      "source": [
        "You should use a `RandomForestClassifier` as your model architecture for this assignment. You will actually initialize this model in Step 8."
      ],
      "metadata": {
        "id": "IiS0RhPymQwg"
      }
    },
    {
      "cell_type": "markdown",
      "source": [
        "# Step 7: (Optional) Select Your Hyperparameters"
      ],
      "metadata": {
        "id": "A-AcODJ3aYx6"
      }
    },
    {
      "cell_type": "code",
      "source": [
        "from sklearn.ensemble import RandomForestClassifier\n",
        "from sklearn.model_selection import GridSearchCV\n",
        "\n",
        "param_grid = {'n_estimators': [50, 100, 200, 300, 400],\n",
        "              'criterion' : ['gini', 'entropy', 'log_loss'],\n",
        "              'max_depth': [2, 5, 10, None]}\n",
        "\n",
        "clf = RandomForestClassifier()\n",
        "num_patients = len(np.unique(groups))\n",
        "grid_search_clf = GridSearchCV(clf, param_grid,\n",
        "                           cv=num_patients)\n",
        "grid_search_clf.fit(x, y)\n",
        "best_params = grid_search_clf.best_params_\n",
        "print(f'Best Params: {grid_search_clf.best_params_}')\n",
        "print(f'Best Score: {grid_search_clf.best_score_}')"
      ],
      "metadata": {
        "id": "brNu-hIyZ7cT",
        "colab": {
          "base_uri": "https://localhost:8080/"
        },
        "outputId": "026e36d1-72f0-4add-abc3-86ad5bd4f77b"
      },
      "execution_count": 8,
      "outputs": [
        {
          "output_type": "stream",
          "name": "stdout",
          "text": [
            "Best Params: {'criterion': 'gini', 'max_depth': 10, 'n_estimators': 100}\n",
            "Best Score: 0.5743243243243242\n"
          ]
        }
      ]
    },
    {
      "cell_type": "markdown",
      "source": [
        "# Step 8: Train and Test Your Model"
      ],
      "metadata": {
        "id": "-fpM5JCVcS_c"
      }
    },
    {
      "cell_type": "markdown",
      "source": [
        "We could perform the entire cross-validation procedure using the function `cross_val_predict()` we covered in our Parkinsonian Gait regression task:"
      ],
      "metadata": {
        "id": "RJmlaSww-2qx"
      }
    },
    {
      "cell_type": "code",
      "source": [
        "from sklearn.ensemble import RandomForestClassifier\n",
        "from sklearn.model_selection import cross_val_predict\n",
        "\n",
        "clf = RandomForestClassifier(**best_params)\n",
        "num_patients = len(np.unique(groups))\n",
        "y_pred = cross_val_predict(clf, x, y, groups=groups, cv=num_patients)\n",
        "print(y_pred)"
      ],
      "metadata": {
        "id": "B8EL9uMF_Anv",
        "colab": {
          "base_uri": "https://localhost:8080/"
        },
        "outputId": "cfdedffc-63d4-4d05-9557-4fe3269cf1fa"
      },
      "execution_count": 9,
      "outputs": [
        {
          "output_type": "stream",
          "name": "stdout",
          "text": [
            "[0 0 0 ... 0 0 0]\n"
          ]
        }
      ]
    },
    {
      "cell_type": "markdown",
      "source": [
        "However, it's good to get familiar with how to write these routines on your own for situations when you need to train and test models in another way."
      ],
      "metadata": {
        "id": "4Ddj2RXsBf4z"
      }
    },
    {
      "cell_type": "markdown",
      "source": [
        "**(Part 5)** Write a program that will evaluate the performance of a `RandomForestClassifier` using subject-wise cross-validation. Some pseudocode is provided below.\n",
        "\n",
        "*Hint:* Unlike with previous examples, the labels for this dataset are strings. You could convert the strings to a number (W = 0, N1 = 1, ...). However, it will be hard to interpret your results if you don't reverse the conversion after you train and test your models. Instead, you can use the following line to initialize the data structure for your results: `y_pred = np.empty(y.shape, dtype=object)`.\n",
        "\n",
        "*Hint:* You can use [`GroupKFold`](https://scikit-learn.org/stable/modules/generated/sklearn.model_selection.GroupKFold.html) like we did in the lecture, but you may also consider using [`LeaveOneGroupOut`](https://scikit-learn.org/stable/modules/generated/sklearn.model_selection.LeaveOneGroupOut.html#sklearn.model_selection.LeaveOneGroupOut). As the name implies, this function is similar to `GroupKFold`, but if assumes that the number of folds is equal to the number of groups you would like to keep distinct."
      ],
      "metadata": {
        "id": "A_N0r18hBxPd"
      }
    },
    {
      "cell_type": "markdown",
      "source": [
        "```\n",
        "initialize a data structure for saving our final results\n",
        "for each fold:\n",
        "    split data into train and test\n",
        "    train a model on training data\n",
        "    predict on the test data using that model\n",
        "    add the predictions to our final results data structure\n",
        "```"
      ],
      "metadata": {
        "id": "hlan8ibtB2AL"
      }
    },
    {
      "cell_type": "code",
      "source": [
        "from sklearn.model_selection import LeaveOneGroupOut\n",
        "\n",
        "y_pred = np.empty(y.shape, dtype=object)\n",
        "logo = LeaveOneGroupOut()\n",
        "\n",
        "# Initialize a DataFrame to store feature importances\n",
        "feature_importances_df = pd.DataFrame(columns=['Fold #'] + feature_names_list)\n",
        "\n",
        "fold_num = 0\n",
        "\n",
        "for train_index, test_index in logo.split(x, y, groups):\n",
        "    fold_num += 1\n",
        "    x_train, x_test = x[train_index], x[test_index]\n",
        "    y_train, y_test = y[train_index], y[test_index]\n",
        "    clf = RandomForestClassifier()\n",
        "    clf.fit(x_train, y_train)\n",
        "    y_pred[test_index] = clf.predict(x_test)\n",
        "\n",
        "    # Retrieve feature importances\n",
        "    feature_importances = clf.feature_importances_\n",
        "    # Create a DataFrame for the current fold\n",
        "    fold_importances = pd.DataFrame([[fold_num] + list(feature_importances)], columns=['Fold #'] + feature_names_list)\n",
        "    # Append to the main DataFrame using pd.concat\n",
        "    feature_importances_df = pd.concat([feature_importances_df, fold_importances], ignore_index=True)\n",
        "\n",
        "# Fill missing values with 0\n",
        "feature_importances_df = feature_importances_df.fillna(0)\n",
        "\n",
        "print(y_pred)\n",
        "print(feature_importances_df)"
      ],
      "metadata": {
        "id": "o1ii_xTwDK5a",
        "colab": {
          "base_uri": "https://localhost:8080/"
        },
        "outputId": "27f33984-a5dc-43bf-9c4c-7ad82bd19c58"
      },
      "execution_count": 33,
      "outputs": [
        {
          "output_type": "stream",
          "name": "stderr",
          "text": [
            "<ipython-input-33-7a4b6ea748a2>:24: FutureWarning: The behavior of DataFrame concatenation with empty or all-NA entries is deprecated. In a future version, this will no longer exclude empty or all-NA columns when determining the result dtypes. To retain the old behavior, exclude the relevant entries before the concat operation.\n",
            "  feature_importances_df = pd.concat([feature_importances_df, fold_importances], ignore_index=True)\n"
          ]
        },
        {
          "output_type": "stream",
          "name": "stdout",
          "text": [
            "[0 0 0 ... 1 1 0]\n",
            "   Fold #  EEG Mean   EEG STD  EEG Minimum  EEG Maximum  EEG Delta  EEG Theta  \\\n",
            "0       1  0.010503  0.131899     0.076720     0.069110        0.0        0.0   \n",
            "1       2  0.018824  0.082819     0.078589     0.065606        0.0        0.0   \n",
            "2       3  0.018848  0.098026     0.074337     0.070127        0.0        0.0   \n",
            "\n",
            "   EEG Alpha  EEG Beta  EEG Gamma  ...  EMG Maximum  EMG Activations  \\\n",
            "0        0.0       0.0        0.0  ...     0.080287         0.061890   \n",
            "1        0.0       0.0        0.0  ...     0.080012         0.083583   \n",
            "2        0.0       0.0        0.0  ...     0.063689         0.065567   \n",
            "\n",
            "   EOG Mean   EOG STD  EOG Minimum  EOG Maximum  ECG Mean   ECG STD  \\\n",
            "0  0.012789  0.055159     0.048399     0.066845  0.014935  0.109436   \n",
            "1  0.027387  0.057551     0.060233     0.094402  0.023162  0.072693   \n",
            "2  0.029560  0.083363     0.073649     0.097205  0.020339  0.055615   \n",
            "\n",
            "   ECG Minimum  ECG Maximum  \n",
            "0     0.048627     0.087274  \n",
            "1     0.048532     0.059486  \n",
            "2     0.053102     0.054039  \n",
            "\n",
            "[3 rows x 23 columns]\n"
          ]
        }
      ]
    },
    {
      "cell_type": "code",
      "source": [
        "import seaborn as sns\n",
        "\n",
        "# Plot the overall importance of the features as a box-and-whiskers plot\n",
        "feature_importances_melted = feature_importances_df.melt(id_vars=['Fold #'], var_name='Feature', value_name='Importance')\n",
        "plt.figure(figsize=(12, 6))\n",
        "sns.boxplot(x='Feature', y='Importance', data=feature_importances_melted)\n",
        "plt.title('Feature Importances Across Folds')\n",
        "plt.xticks(rotation=90)\n",
        "plt.show()"
      ],
      "metadata": {
        "colab": {
          "base_uri": "https://localhost:8080/",
          "height": 508
        },
        "id": "KM0mA5PQzWc0",
        "outputId": "10315a0c-8871-4448-ff4b-bfca4ca733d1"
      },
      "execution_count": 34,
      "outputs": [
        {
          "output_type": "display_data",
          "data": {
            "text/plain": [
              "<Figure size 1200x600 with 1 Axes>"
            ],
            "image/png": "[encoded data removed]"
          },
          "metadata": {}
        }
      ]
    },
    {
      "cell_type": "markdown",
      "source": [
        "# Step 9: Use an Appropriate Method for Interpreting Results"
      ],
      "metadata": {
        "id": "hT0cnOFdafEF"
      }
    },
    {
      "cell_type": "markdown",
      "source": [
        "**(Part 6)** Create a confusion matrix showing the accuracy of your model."
      ],
      "metadata": {
        "id": "QotlceyWEHeF"
      }
    },
    {
      "cell_type": "code",
      "source": [
        "from sklearn.metrics import ConfusionMatrixDisplay\n",
        "\n",
        "# Convert y_pred to the same type as y\n",
        "y_pred = y_pred.astype(y.dtype)\n",
        "\n",
        "ConfusionMatrixDisplay.from_predictions(y, y_pred)\n",
        "plt.show()"
      ],
      "metadata": {
        "id": "f7nOnbhUMBZM"
      },
      "execution_count": null,
      "outputs": []
    },
    {
      "cell_type": "markdown",
      "source": [
        "**(Part 7)** Calculate the overall accuracy of your model."
      ],
      "metadata": {
        "id": "zvZqiWh9bU7m"
      }
    },
    {
      "cell_type": "code",
      "source": [
        "from sklearn.metrics import accuracy_score\n",
        "\n",
        "print(f'Accuracy: {accuracy_score(y, y_pred)}')"
      ],
      "metadata": {
        "id": "U4JQn0MdbmdZ"
      },
      "execution_count": null,
      "outputs": []
    },
    {
      "cell_type": "markdown",
      "source": [
        "**(Part 8)** What can you tell about your model based on these results? Is it particularly successful at classifying some sleep stages over others? Does it tend to get some stages confused with one another?"
      ],
      "metadata": {
        "id": "5u8UeBGYHGA4"
      }
    },
    {
      "cell_type": "markdown",
      "source": [
        "The model has a low overall accuracy when classifying sleep stages. It is most successful at classifying the N2 followed by W, less successful at classifying N3 and R, and poor at classifying N1. Based on these results, I predict that the model would have a higher accuracy if tasked with only classifying between wake and sleep without stages."
      ],
      "metadata": {
        "id": "zL0XhLywHo4P"
      }
    }
  ]
}