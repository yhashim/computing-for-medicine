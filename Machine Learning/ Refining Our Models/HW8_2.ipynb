{
  "nbformat": 4,
  "nbformat_minor": 0,
  "metadata": {
    "colab": {
      "provenance": []
    },
    "kernelspec": {
      "name": "python3",
      "display_name": "Python 3"
    },
    "language_info": {
      "name": "python"
    }
  },
  "cells": [
    {
      "cell_type": "markdown",
      "source": [
        "In this notebook, your task is to try to improve the sleep stage classification model for the [Haaglanden Medisch Centrum Sleep Staging Database](https://physionet.org/content/hmc-sleep-staging/1.1/) you created in your last homework assignment. You should implement enhancements from at least two of the three categories below:\n",
        "* **Modify your features (Steps 2 & 4):** Manually create new features, add feature selection\n",
        "* **Improve your dataset distribution (Step 5):** Oversample underrepresented sleep stages during training, undersample overrepresented sleep stages during training\n",
        "* **Improve your model architecture (Steps 6 & 7):** Try different model architectures, try different hyperparameters, add an automatic hyperparameter search\n"
      ],
      "metadata": {
        "id": "BDaO9cuMWe83"
      }
    },
    {
      "cell_type": "markdown",
      "source": [
        "While we are not expecting you to achieve a specific accuracy rate, this is your chance to try out different techniques to potentially enhance your machine learning pipeline. Bear in mind that while overall model accuracy may not always improve, changes you make may modify your model's ability to discern certain classes."
      ],
      "metadata": {
        "id": "hIJ5HnEs5e5T"
      }
    },
    {
      "cell_type": "markdown",
      "source": [
        "You may either modify and resubmit your HW7 notebook or you may copy cells over from your previous notebook into this one. If you go with the former, be sure to rename the notebook so that it is clear that you are resubmitting a new file.\n",
        "\n",
        "Regardless of how you submit your homework, you must write a brief report on the modifications that you made from your initial machine learning pipeline and the impact those modifications had on your model's performance."
      ],
      "metadata": {
        "id": "g7qom8PartpO"
      }
    },
    {
      "cell_type": "markdown",
      "source": [
        "# Write-Up"
      ],
      "metadata": {
        "id": "GnjMiQBKuU3s"
      }
    },
    {
      "cell_type": "markdown",
      "source": [
        "*Note:* The answers to both questions can be written as a paragraph, a bulleted list, or a table. However, you must answer all parts of the questions, so complete sentences are strongly recommended."
      ],
      "metadata": {
        "id": "g3lXRcJjykD8"
      }
    },
    {
      "cell_type": "markdown",
      "source": [
        "**(Part 1)** What modifications did you make to your machine learning pipeline. What were you hoping these modifications would achieve?"
      ],
      "metadata": {
        "id": "5u8UeBGYHGA4"
      }
    },
    {
      "cell_type": "markdown",
      "source": [
        "1.   I modified features using select percentile. I started with a low percent and increased until the accuracy stopped improving. As I started with many features, limiting them could improve the accuracy if some weren't as useful.\n",
        "2.   I balanced the dataset using SMOTE. The model was worse at predicting some sleep stages than others, which could have been due to a difference in amount of data for each sleep stage. However, this did not make a significant change.\n",
        "3.   I selected hyperparameters using grid search. This improved the model's accuracy.\n",
        "\n",
        "\n",
        "\n"
      ],
      "metadata": {
        "id": "FM_dPkK8toxe"
      }
    },
    {
      "cell_type": "markdown",
      "source": [
        "**(Part 2)** How did you model's performance change after you made these modifications? Did they improve overall accuracy? Did they improve the model's ability to identify certain classes?"
      ],
      "metadata": {
        "id": "RPKBphXItlsu"
      }
    },
    {
      "cell_type": "markdown",
      "source": [
        "I first tried each of the modifications individually, which resulted in an improvement in the model's performance each time. However, applying them together in different combinations had unexpected results. Although they I expected them to further increase the model's accuracy when applied together, they actually made a smaller difference when applied all at once. I'm not sure why this is the case and tried changing some parameters in the process, however because of this I ended up commenting the part where I balanced the dataset. This seemed to leave me with the best performance out of the different changes I tried."
      ],
      "metadata": {
        "id": "zL0XhLywHo4P"
      }
    }
  ]
}